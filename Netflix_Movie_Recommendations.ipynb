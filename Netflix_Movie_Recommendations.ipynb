{
 "cells": [
  {
   "cell_type": "code",
   "execution_count": 26,
   "id": "945ddaa5",
   "metadata": {},
   "outputs": [],
   "source": [
    "import pandas as pd"
   ]
  },
  {
   "cell_type": "code",
   "execution_count": 27,
   "id": "7413e843",
   "metadata": {},
   "outputs": [],
   "source": [
    "df=pd.read_csv(\"dataset.csv\")"
   ]
  },
  {
   "cell_type": "code",
   "execution_count": 28,
   "id": "8c791dfd",
   "metadata": {},
   "outputs": [
    {
     "data": {
      "text/plain": [
       "id                     int64\n",
       "title                 object\n",
       "genre                 object\n",
       "original_language     object\n",
       "overview              object\n",
       "popularity           float64\n",
       "release_date          object\n",
       "vote_average         float64\n",
       "vote_count             int64\n",
       "dtype: object"
      ]
     },
     "execution_count": 28,
     "metadata": {},
     "output_type": "execute_result"
    }
   ],
   "source": [
    "df.dtypes"
   ]
  },
  {
   "cell_type": "code",
   "execution_count": 29,
   "id": "2521d5fd",
   "metadata": {},
   "outputs": [
    {
     "data": {
      "text/html": [
       "<div>\n",
       "<style scoped>\n",
       "    .dataframe tbody tr th:only-of-type {\n",
       "        vertical-align: middle;\n",
       "    }\n",
       "\n",
       "    .dataframe tbody tr th {\n",
       "        vertical-align: top;\n",
       "    }\n",
       "\n",
       "    .dataframe thead th {\n",
       "        text-align: right;\n",
       "    }\n",
       "</style>\n",
       "<table border=\"1\" class=\"dataframe\">\n",
       "  <thead>\n",
       "    <tr style=\"text-align: right;\">\n",
       "      <th></th>\n",
       "      <th>id</th>\n",
       "      <th>title</th>\n",
       "      <th>genre</th>\n",
       "      <th>original_language</th>\n",
       "      <th>overview</th>\n",
       "      <th>popularity</th>\n",
       "      <th>release_date</th>\n",
       "      <th>vote_average</th>\n",
       "      <th>vote_count</th>\n",
       "    </tr>\n",
       "  </thead>\n",
       "  <tbody>\n",
       "    <tr>\n",
       "      <th>0</th>\n",
       "      <td>278</td>\n",
       "      <td>The Shawshank Redemption</td>\n",
       "      <td>Drama,Crime</td>\n",
       "      <td>en</td>\n",
       "      <td>Framed in the 1940s for the double murder of h...</td>\n",
       "      <td>94.075</td>\n",
       "      <td>1994-09-23</td>\n",
       "      <td>8.7</td>\n",
       "      <td>21862</td>\n",
       "    </tr>\n",
       "    <tr>\n",
       "      <th>1</th>\n",
       "      <td>19404</td>\n",
       "      <td>Dilwale Dulhania Le Jayenge</td>\n",
       "      <td>Comedy,Drama,Romance</td>\n",
       "      <td>hi</td>\n",
       "      <td>Raj is a rich, carefree, happy-go-lucky second...</td>\n",
       "      <td>25.408</td>\n",
       "      <td>1995-10-19</td>\n",
       "      <td>8.7</td>\n",
       "      <td>3731</td>\n",
       "    </tr>\n",
       "    <tr>\n",
       "      <th>2</th>\n",
       "      <td>238</td>\n",
       "      <td>The Godfather</td>\n",
       "      <td>Drama,Crime</td>\n",
       "      <td>en</td>\n",
       "      <td>Spanning the years 1945 to 1955, a chronicle o...</td>\n",
       "      <td>90.585</td>\n",
       "      <td>1972-03-14</td>\n",
       "      <td>8.7</td>\n",
       "      <td>16280</td>\n",
       "    </tr>\n",
       "    <tr>\n",
       "      <th>3</th>\n",
       "      <td>424</td>\n",
       "      <td>Schindler's List</td>\n",
       "      <td>Drama,History,War</td>\n",
       "      <td>en</td>\n",
       "      <td>The true story of how businessman Oskar Schind...</td>\n",
       "      <td>44.761</td>\n",
       "      <td>1993-12-15</td>\n",
       "      <td>8.6</td>\n",
       "      <td>12959</td>\n",
       "    </tr>\n",
       "    <tr>\n",
       "      <th>4</th>\n",
       "      <td>240</td>\n",
       "      <td>The Godfather: Part II</td>\n",
       "      <td>Drama,Crime</td>\n",
       "      <td>en</td>\n",
       "      <td>In the continuing saga of the Corleone crime f...</td>\n",
       "      <td>57.749</td>\n",
       "      <td>1974-12-20</td>\n",
       "      <td>8.6</td>\n",
       "      <td>9811</td>\n",
       "    </tr>\n",
       "  </tbody>\n",
       "</table>\n",
       "</div>"
      ],
      "text/plain": [
       "      id                        title                 genre original_language  \\\n",
       "0    278     The Shawshank Redemption           Drama,Crime                en   \n",
       "1  19404  Dilwale Dulhania Le Jayenge  Comedy,Drama,Romance                hi   \n",
       "2    238                The Godfather           Drama,Crime                en   \n",
       "3    424             Schindler's List     Drama,History,War                en   \n",
       "4    240       The Godfather: Part II           Drama,Crime                en   \n",
       "\n",
       "                                            overview  popularity release_date  \\\n",
       "0  Framed in the 1940s for the double murder of h...      94.075   1994-09-23   \n",
       "1  Raj is a rich, carefree, happy-go-lucky second...      25.408   1995-10-19   \n",
       "2  Spanning the years 1945 to 1955, a chronicle o...      90.585   1972-03-14   \n",
       "3  The true story of how businessman Oskar Schind...      44.761   1993-12-15   \n",
       "4  In the continuing saga of the Corleone crime f...      57.749   1974-12-20   \n",
       "\n",
       "   vote_average  vote_count  \n",
       "0           8.7       21862  \n",
       "1           8.7        3731  \n",
       "2           8.7       16280  \n",
       "3           8.6       12959  \n",
       "4           8.6        9811  "
      ]
     },
     "execution_count": 29,
     "metadata": {},
     "output_type": "execute_result"
    }
   ],
   "source": [
    "df.head()"
   ]
  },
  {
   "cell_type": "code",
   "execution_count": 30,
   "id": "c0a2587a",
   "metadata": {},
   "outputs": [
    {
     "data": {
      "text/html": [
       "<div>\n",
       "<style scoped>\n",
       "    .dataframe tbody tr th:only-of-type {\n",
       "        vertical-align: middle;\n",
       "    }\n",
       "\n",
       "    .dataframe tbody tr th {\n",
       "        vertical-align: top;\n",
       "    }\n",
       "\n",
       "    .dataframe thead th {\n",
       "        text-align: right;\n",
       "    }\n",
       "</style>\n",
       "<table border=\"1\" class=\"dataframe\">\n",
       "  <thead>\n",
       "    <tr style=\"text-align: right;\">\n",
       "      <th></th>\n",
       "      <th>id</th>\n",
       "      <th>popularity</th>\n",
       "      <th>vote_average</th>\n",
       "      <th>vote_count</th>\n",
       "    </tr>\n",
       "  </thead>\n",
       "  <tbody>\n",
       "    <tr>\n",
       "      <th>count</th>\n",
       "      <td>10000.000000</td>\n",
       "      <td>10000.000000</td>\n",
       "      <td>10000.000000</td>\n",
       "      <td>10000.000000</td>\n",
       "    </tr>\n",
       "    <tr>\n",
       "      <th>mean</th>\n",
       "      <td>161243.505000</td>\n",
       "      <td>34.697267</td>\n",
       "      <td>6.621150</td>\n",
       "      <td>1547.309400</td>\n",
       "    </tr>\n",
       "    <tr>\n",
       "      <th>std</th>\n",
       "      <td>211422.046043</td>\n",
       "      <td>211.684175</td>\n",
       "      <td>0.766231</td>\n",
       "      <td>2648.295789</td>\n",
       "    </tr>\n",
       "    <tr>\n",
       "      <th>min</th>\n",
       "      <td>5.000000</td>\n",
       "      <td>0.600000</td>\n",
       "      <td>4.600000</td>\n",
       "      <td>200.000000</td>\n",
       "    </tr>\n",
       "    <tr>\n",
       "      <th>25%</th>\n",
       "      <td>10127.750000</td>\n",
       "      <td>9.154750</td>\n",
       "      <td>6.100000</td>\n",
       "      <td>315.000000</td>\n",
       "    </tr>\n",
       "    <tr>\n",
       "      <th>50%</th>\n",
       "      <td>30002.500000</td>\n",
       "      <td>13.637500</td>\n",
       "      <td>6.600000</td>\n",
       "      <td>583.500000</td>\n",
       "    </tr>\n",
       "    <tr>\n",
       "      <th>75%</th>\n",
       "      <td>310133.500000</td>\n",
       "      <td>25.651250</td>\n",
       "      <td>7.200000</td>\n",
       "      <td>1460.000000</td>\n",
       "    </tr>\n",
       "    <tr>\n",
       "      <th>max</th>\n",
       "      <td>934761.000000</td>\n",
       "      <td>10436.917000</td>\n",
       "      <td>8.700000</td>\n",
       "      <td>31917.000000</td>\n",
       "    </tr>\n",
       "  </tbody>\n",
       "</table>\n",
       "</div>"
      ],
      "text/plain": [
       "                  id    popularity  vote_average    vote_count\n",
       "count   10000.000000  10000.000000  10000.000000  10000.000000\n",
       "mean   161243.505000     34.697267      6.621150   1547.309400\n",
       "std    211422.046043    211.684175      0.766231   2648.295789\n",
       "min         5.000000      0.600000      4.600000    200.000000\n",
       "25%     10127.750000      9.154750      6.100000    315.000000\n",
       "50%     30002.500000     13.637500      6.600000    583.500000\n",
       "75%    310133.500000     25.651250      7.200000   1460.000000\n",
       "max    934761.000000  10436.917000      8.700000  31917.000000"
      ]
     },
     "execution_count": 30,
     "metadata": {},
     "output_type": "execute_result"
    }
   ],
   "source": [
    "df.describe()"
   ]
  },
  {
   "cell_type": "code",
   "execution_count": 31,
   "id": "89cd5d76",
   "metadata": {},
   "outputs": [
    {
     "name": "stdout",
     "output_type": "stream",
     "text": [
      "------------------------------------------------------------------------------------------------------------------------\n"
     ]
    }
   ],
   "source": [
    "print(\"-\"*120)"
   ]
  },
  {
   "cell_type": "code",
   "execution_count": 32,
   "id": "7068cd5b",
   "metadata": {},
   "outputs": [],
   "source": [
    "import os, sys\n",
    "from pyspark.sql import SparkSession\n",
    "from pyspark.sql.functions import *"
   ]
  },
  {
   "cell_type": "code",
   "execution_count": 33,
   "id": "982b5775",
   "metadata": {},
   "outputs": [],
   "source": [
    "spark = SparkSession.builder.master(\"local[2]\").appName(\"Netflix Movie Recommender\").getOrCreate()"
   ]
  },
  {
   "cell_type": "code",
   "execution_count": 34,
   "id": "04fc1c33",
   "metadata": {},
   "outputs": [
    {
     "data": {
      "text/html": [
       "\n",
       "            <div>\n",
       "                <p><b>SparkSession - in-memory</b></p>\n",
       "                \n",
       "        <div>\n",
       "            <p><b>SparkContext</b></p>\n",
       "\n",
       "            <p><a href=\"http://host.docker.internal:4040\">Spark UI</a></p>\n",
       "\n",
       "            <dl>\n",
       "              <dt>Version</dt>\n",
       "                <dd><code>v3.4.1</code></dd>\n",
       "              <dt>Master</dt>\n",
       "                <dd><code>local[2]</code></dd>\n",
       "              <dt>AppName</dt>\n",
       "                <dd><code>Netflix Movie Recommender</code></dd>\n",
       "            </dl>\n",
       "        </div>\n",
       "        \n",
       "            </div>\n",
       "        "
      ],
      "text/plain": [
       "<pyspark.sql.session.SparkSession at 0x20a8537ccd0>"
      ]
     },
     "execution_count": 34,
     "metadata": {},
     "output_type": "execute_result"
    }
   ],
   "source": [
    "spark"
   ]
  },
  {
   "cell_type": "code",
   "execution_count": 35,
   "id": "523b3b91",
   "metadata": {},
   "outputs": [],
   "source": [
    "movies=spark.read.csv(\"dataset.csv\",header=True)\n"
   ]
  },
  {
   "cell_type": "code",
   "execution_count": 36,
   "id": "8f06dedc",
   "metadata": {},
   "outputs": [
    {
     "data": {
      "text/plain": [
       "10005"
      ]
     },
     "execution_count": 36,
     "metadata": {},
     "output_type": "execute_result"
    }
   ],
   "source": [
    "movies.count()"
   ]
  },
  {
   "cell_type": "code",
   "execution_count": 37,
   "id": "1b12d762",
   "metadata": {},
   "outputs": [
    {
     "name": "stdout",
     "output_type": "stream",
     "text": [
      "+------+--------------------+--------------------+-----------------+--------------------+----------+------------+------------+----------+\n",
      "|    id|               title|               genre|original_language|            overview|popularity|release_date|vote_average|vote_count|\n",
      "+------+--------------------+--------------------+-----------------+--------------------+----------+------------+------------+----------+\n",
      "|   278|The Shawshank Red...|         Drama,Crime|               en|Framed in the 194...|    94.075|  1994-09-23|         8.7|     21862|\n",
      "| 19404|Dilwale Dulhania ...|Comedy,Drama,Romance|               hi|Raj is a rich, ca...|    25.408|  1995-10-19|         8.7|      3731|\n",
      "|   238|       The Godfather|         Drama,Crime|               en|Spanning the year...|    90.585|  1972-03-14|         8.7|     16280|\n",
      "|   424|    Schindler's List|   Drama,History,War|               en|The true story of...|    44.761|  1993-12-15|         8.6|     12959|\n",
      "|   240|The Godfather: Pa...|         Drama,Crime|               en|In the continuing...|    57.749|  1974-12-20|         8.6|      9811|\n",
      "|667257|   Impossible Things|        Family,Drama|               es|Matilde is a woma...|    14.358|  2021-06-17|         8.6|       255|\n",
      "|   129|       Spirited Away|Animation,Family,...|               ja|A young girl, Chi...|    92.056|  2001-07-20|         8.5|     13093|\n",
      "|730154|      Your Eyes Tell|       Romance,Drama|               ja|A tragic accident...|    51.345|  2020-10-23|         8.5|       339|\n",
      "|372754|Dou kyu sei – Cla...|   Romance,Animation|               ja|Rihito Sajo, an h...|    14.285|  2016-02-20|         8.5|       239|\n",
      "|372058|          Your Name.|Romance,Animation...|               ja|High schoolers Mi...|    158.27|  2016-08-26|         8.5|      8895|\n",
      "|   389|        12 Angry Men|               Drama|               en|The defense and t...|    31.946|  1957-04-10|         8.5|      6533|\n",
      "|696374|   Gabriel's Inferno|             Romance|               en|An intriguing and...|    12.674|  2020-05-29|         8.5|      2262|\n",
      "|496243|            Parasite|Comedy,Thriller,D...|               ko|All unemployed, K...|    65.147|  2019-05-30|         8.5|     14036|\n",
      "|   497|      The Green Mile| Fantasy,Drama,Crime|               en|A supernatural ta...|    69.118|  1999-12-10|         8.5|     14162|\n",
      "|724089|Gabriel's Inferno...|             Romance|               en|Professor Gabriel...|    14.924|  2020-07-31|         8.5|      1420|\n",
      "|   155|     The Dark Knight|Drama,Action,Crim...|               en|Batman raises the...|     82.23|  2008-07-14|         8.5|     27925|\n",
      "|   429|The Good, the Bad...|             Western|               it|While the Civil W...|     47.73|  1966-12-23|         8.5|      6747|\n",
      "|   680|        Pulp Fiction|      Thriller,Crime|               en|A burger-loving h...|    67.224|  1994-09-10|         8.5|     23481|\n",
      "|   122|The Lord of the R...|Adventure,Fantasy...|               en|Aragorn is reveal...|   134.707|  2003-12-01|         8.5|     19844|\n",
      "|761053|Gabriel's Inferno...|      Romance,Comedy|               en|The final part of...|    47.608|  2020-11-19|         8.5|       977|\n",
      "+------+--------------------+--------------------+-----------------+--------------------+----------+------------+------------+----------+\n",
      "only showing top 20 rows\n",
      "\n"
     ]
    }
   ],
   "source": [
    "movies.show()"
   ]
  },
  {
   "cell_type": "code",
   "execution_count": 38,
   "id": "487335d1",
   "metadata": {},
   "outputs": [
    {
     "name": "stdout",
     "output_type": "stream",
     "text": [
      "+-------+--------------------+--------------------+--------------------+--------------------+--------------------+--------------------+--------------------+--------------------+------------------+\n",
      "|summary|                  id|               title|               genre|   original_language|            overview|          popularity|        release_date|        vote_average|        vote_count|\n",
      "+-------+--------------------+--------------------+--------------------+--------------------+--------------------+--------------------+--------------------+--------------------+------------------+\n",
      "|  count|               10005|               10005|               10002|               10005|                9992|                9999|                9999|                9997|              9997|\n",
      "|   mean|          161243.505|  1172.9382272727273|                null|               6.994|              1383.0|   34.95272369243594|  38.651246376811606|   6.759508516568501|1514.8023986727917|\n",
      "| stddev|   211422.0460430182|   1683.674991272024|                null|  1.2636249443565128|                null|   215.7612362093659|   82.43083562040081|  2.6945619856197833|2610.9652400048653|\n",
      "|    min| In a Disney anim...| Bamberski attemp...| Pierre could bec...| good-looking Ben...| Anita. The owner...| \"\"Déjà vu\"\" and ...| \"\"Great Expectat...| \"\"Anya\"\" encount...|               \"\"L|\n",
      "|    max|                9997|            Æon Flux|    Western,Thriller|                  zh|“2048: Nowhere to...|” during the Amer...|” a deceased medi...|              96.467|               999|\n",
      "+-------+--------------------+--------------------+--------------------+--------------------+--------------------+--------------------+--------------------+--------------------+------------------+\n",
      "\n"
     ]
    }
   ],
   "source": [
    "movies.describe().show()"
   ]
  },
  {
   "cell_type": "code",
   "execution_count": 39,
   "id": "85c4645e",
   "metadata": {},
   "outputs": [
    {
     "name": "stdout",
     "output_type": "stream",
     "text": [
      "root\n",
      " |-- id: string (nullable = true)\n",
      " |-- title: string (nullable = true)\n",
      " |-- genre: string (nullable = true)\n",
      " |-- original_language: string (nullable = true)\n",
      " |-- overview: string (nullable = true)\n",
      " |-- popularity: string (nullable = true)\n",
      " |-- release_date: string (nullable = true)\n",
      " |-- vote_average: string (nullable = true)\n",
      " |-- vote_count: string (nullable = true)\n",
      "\n"
     ]
    }
   ],
   "source": [
    "movies.printSchema()"
   ]
  },
  {
   "cell_type": "code",
   "execution_count": 40,
   "id": "66b76b3d",
   "metadata": {},
   "outputs": [
    {
     "data": {
      "text/plain": [
       "(10005, 9)"
      ]
     },
     "execution_count": 40,
     "metadata": {},
     "output_type": "execute_result"
    }
   ],
   "source": [
    "movies.count(),len(movies.columns)"
   ]
  },
  {
   "cell_type": "code",
   "execution_count": 41,
   "id": "1f1e4015",
   "metadata": {},
   "outputs": [
    {
     "data": {
      "text/plain": [
       "['id',\n",
       " 'title',\n",
       " 'genre',\n",
       " 'original_language',\n",
       " 'overview',\n",
       " 'popularity',\n",
       " 'release_date',\n",
       " 'vote_average',\n",
       " 'vote_count']"
      ]
     },
     "execution_count": 41,
     "metadata": {},
     "output_type": "execute_result"
    }
   ],
   "source": [
    "movies.columns\n"
   ]
  },
  {
   "cell_type": "code",
   "execution_count": 42,
   "id": "1cdaea3f",
   "metadata": {},
   "outputs": [],
   "source": [
    "movies=movies.select(\"id\",\"title\",\"genre\",\"overview\")"
   ]
  },
  {
   "cell_type": "code",
   "execution_count": 43,
   "id": "a6b58a76",
   "metadata": {},
   "outputs": [
    {
     "name": "stdout",
     "output_type": "stream",
     "text": [
      "+------+--------------------+--------------------+--------------------+\n",
      "|    id|               title|               genre|            overview|\n",
      "+------+--------------------+--------------------+--------------------+\n",
      "|   278|The Shawshank Red...|         Drama,Crime|Framed in the 194...|\n",
      "| 19404|Dilwale Dulhania ...|Comedy,Drama,Romance|Raj is a rich, ca...|\n",
      "|   238|       The Godfather|         Drama,Crime|Spanning the year...|\n",
      "|   424|    Schindler's List|   Drama,History,War|The true story of...|\n",
      "|   240|The Godfather: Pa...|         Drama,Crime|In the continuing...|\n",
      "|667257|   Impossible Things|        Family,Drama|Matilde is a woma...|\n",
      "|   129|       Spirited Away|Animation,Family,...|A young girl, Chi...|\n",
      "|730154|      Your Eyes Tell|       Romance,Drama|A tragic accident...|\n",
      "|372754|Dou kyu sei – Cla...|   Romance,Animation|Rihito Sajo, an h...|\n",
      "|372058|          Your Name.|Romance,Animation...|High schoolers Mi...|\n",
      "|   389|        12 Angry Men|               Drama|The defense and t...|\n",
      "|696374|   Gabriel's Inferno|             Romance|An intriguing and...|\n",
      "|496243|            Parasite|Comedy,Thriller,D...|All unemployed, K...|\n",
      "|   497|      The Green Mile| Fantasy,Drama,Crime|A supernatural ta...|\n",
      "|724089|Gabriel's Inferno...|             Romance|Professor Gabriel...|\n",
      "|   155|     The Dark Knight|Drama,Action,Crim...|Batman raises the...|\n",
      "|   429|The Good, the Bad...|             Western|While the Civil W...|\n",
      "|   680|        Pulp Fiction|      Thriller,Crime|A burger-loving h...|\n",
      "|   122|The Lord of the R...|Adventure,Fantasy...|Aragorn is reveal...|\n",
      "|761053|Gabriel's Inferno...|      Romance,Comedy|The final part of...|\n",
      "+------+--------------------+--------------------+--------------------+\n",
      "only showing top 20 rows\n",
      "\n"
     ]
    }
   ],
   "source": [
    "movies.show()"
   ]
  },
  {
   "cell_type": "code",
   "execution_count": 44,
   "id": "1c00ee73",
   "metadata": {},
   "outputs": [
    {
     "name": "stdout",
     "output_type": "stream",
     "text": [
      "+---+-----+-----+--------+\n",
      "| id|title|genre|overview|\n",
      "+---+-----+-----+--------+\n",
      "|  0|    0|    3|      13|\n",
      "+---+-----+-----+--------+\n",
      "\n"
     ]
    }
   ],
   "source": [
    "movies.select([count(when(col(columns).isNull(), columns)).alias(columns) for columns in movies.columns]).show()"
   ]
  },
  {
   "cell_type": "code",
   "execution_count": 45,
   "id": "675e7812",
   "metadata": {},
   "outputs": [],
   "source": [
    "df=movies.select(\"id\",\"title\",concat(movies.overview, movies.genre).alias(\"tags\"))\n"
   ]
  },
  {
   "cell_type": "code",
   "execution_count": 46,
   "id": "8f1827e5",
   "metadata": {},
   "outputs": [
    {
     "name": "stdout",
     "output_type": "stream",
     "text": [
      "+------+--------------------+--------------------+\n",
      "|    id|               title|                tags|\n",
      "+------+--------------------+--------------------+\n",
      "|   278|The Shawshank Red...|Framed in the 194...|\n",
      "| 19404|Dilwale Dulhania ...|Raj is a rich, ca...|\n",
      "|   238|       The Godfather|Spanning the year...|\n",
      "|   424|    Schindler's List|The true story of...|\n",
      "|   240|The Godfather: Pa...|In the continuing...|\n",
      "|667257|   Impossible Things|Matilde is a woma...|\n",
      "|   129|       Spirited Away|A young girl, Chi...|\n",
      "|730154|      Your Eyes Tell|A tragic accident...|\n",
      "|372754|Dou kyu sei – Cla...|Rihito Sajo, an h...|\n",
      "|372058|          Your Name.|High schoolers Mi...|\n",
      "|   389|        12 Angry Men|The defense and t...|\n",
      "|696374|   Gabriel's Inferno|An intriguing and...|\n",
      "|496243|            Parasite|All unemployed, K...|\n",
      "|   497|      The Green Mile|A supernatural ta...|\n",
      "|724089|Gabriel's Inferno...|Professor Gabriel...|\n",
      "|   155|     The Dark Knight|Batman raises the...|\n",
      "|   429|The Good, the Bad...|While the Civil W...|\n",
      "|   680|        Pulp Fiction|A burger-loving h...|\n",
      "|   122|The Lord of the R...|Aragorn is reveal...|\n",
      "|761053|Gabriel's Inferno...|The final part of...|\n",
      "+------+--------------------+--------------------+\n",
      "only showing top 20 rows\n",
      "\n"
     ]
    }
   ],
   "source": [
    "df.show()\n"
   ]
  },
  {
   "cell_type": "code",
   "execution_count": 47,
   "id": "4458738e",
   "metadata": {},
   "outputs": [],
   "source": [
    "from nltk.tokenize import word_tokenize\n",
    "from nltk.corpus import stopwords\n",
    "from nltk.stem import WordNetLemmatizer\n"
   ]
  },
  {
   "cell_type": "code",
   "execution_count": 48,
   "id": "6253ad2b",
   "metadata": {},
   "outputs": [],
   "source": [
    "from sklearn.feature_extraction.text import CountVectorizer"
   ]
  },
  {
   "cell_type": "code",
   "execution_count": 49,
   "id": "15094734",
   "metadata": {},
   "outputs": [],
   "source": [
    "\n",
    "df_=df.toPandas()"
   ]
  },
  {
   "cell_type": "code",
   "execution_count": 50,
   "id": "6a4cdff8",
   "metadata": {},
   "outputs": [
    {
     "data": {
      "text/plain": [
       "str"
      ]
     },
     "execution_count": 50,
     "metadata": {},
     "output_type": "execute_result"
    }
   ],
   "source": [
    "type(df_[\"tags\"][0])"
   ]
  },
  {
   "cell_type": "code",
   "execution_count": 51,
   "id": "263e8f8c",
   "metadata": {},
   "outputs": [],
   "source": [
    "tokens=[]\n",
    "for i in range(len(df_)):\n",
    "    tokens.append(word_tokenize(str(df_[\"tags\"][i])))\n",
    "    "
   ]
  },
  {
   "cell_type": "code",
   "execution_count": 52,
   "id": "22c802d3",
   "metadata": {},
   "outputs": [
    {
     "data": {
      "text/plain": [
       "['The',\n",
       " 'true',\n",
       " 'story',\n",
       " 'of',\n",
       " 'how',\n",
       " 'businessman',\n",
       " 'Oskar',\n",
       " 'Schindler',\n",
       " 'saved',\n",
       " 'over',\n",
       " 'a',\n",
       " 'thousand',\n",
       " 'Jewish',\n",
       " 'lives',\n",
       " 'from',\n",
       " 'the',\n",
       " 'Nazis',\n",
       " 'while',\n",
       " 'they',\n",
       " 'worked',\n",
       " 'as',\n",
       " 'slaves',\n",
       " 'in',\n",
       " 'his',\n",
       " 'factory',\n",
       " 'during',\n",
       " 'World',\n",
       " 'War',\n",
       " 'II.Drama',\n",
       " ',',\n",
       " 'History',\n",
       " ',',\n",
       " 'War']"
      ]
     },
     "execution_count": 52,
     "metadata": {},
     "output_type": "execute_result"
    }
   ],
   "source": [
    "tokens[3]"
   ]
  },
  {
   "cell_type": "code",
   "execution_count": 53,
   "id": "310f9f78",
   "metadata": {},
   "outputs": [
    {
     "data": {
      "text/plain": [
       "['framed',\n",
       " '1940s',\n",
       " 'double',\n",
       " 'murder',\n",
       " 'wife',\n",
       " 'lover',\n",
       " 'upstanding',\n",
       " 'banker',\n",
       " 'andy',\n",
       " 'dufresne',\n",
       " 'begins',\n",
       " 'new',\n",
       " 'life',\n",
       " 'shawshank',\n",
       " 'prison',\n",
       " 'puts',\n",
       " 'accounting',\n",
       " 'skills',\n",
       " 'work',\n",
       " 'amoral',\n",
       " 'warden',\n",
       " 'long',\n",
       " 'stretch',\n",
       " 'prison',\n",
       " 'dufresne',\n",
       " 'comes',\n",
       " 'admired',\n",
       " 'inmates',\n",
       " 'including',\n",
       " 'older',\n",
       " 'prisoner',\n",
       " 'named',\n",
       " 'red',\n",
       " 'integrity',\n",
       " 'unquenchable',\n",
       " 'sense',\n",
       " 'hope.drama',\n",
       " 'crime']"
      ]
     },
     "execution_count": 53,
     "metadata": {},
     "output_type": "execute_result"
    }
   ],
   "source": [
    "stopwordsList=stopwords.words(\"english\")\n",
    "stopwordsList.extend([',','.','-','--','!'])\n",
    "\n",
    "wordList=[]\n",
    "for tokenList in tokens:\n",
    "    words=[]\n",
    "    for word in tokenList:\n",
    "        if word.lower() not in stopwordsList:\n",
    "            words.append(word.lower())\n",
    "            \n",
    "    wordList.append(words)\n",
    "\n",
    "wordList[0]"
   ]
  },
  {
   "cell_type": "code",
   "execution_count": 54,
   "id": "fe3a6bab",
   "metadata": {},
   "outputs": [
    {
     "data": {
      "text/plain": [
       "['frame',\n",
       " '1940s',\n",
       " 'double',\n",
       " 'murder',\n",
       " 'wife',\n",
       " 'lover',\n",
       " 'upstanding',\n",
       " 'banker',\n",
       " 'andy',\n",
       " 'dufresne',\n",
       " 'begin',\n",
       " 'new',\n",
       " 'life',\n",
       " 'shawshank',\n",
       " 'prison',\n",
       " 'put',\n",
       " 'account',\n",
       " 'skills',\n",
       " 'work',\n",
       " 'amoral',\n",
       " 'warden',\n",
       " 'long',\n",
       " 'stretch',\n",
       " 'prison',\n",
       " 'dufresne',\n",
       " 'come',\n",
       " 'admire',\n",
       " 'inmates',\n",
       " 'include',\n",
       " 'older',\n",
       " 'prisoner',\n",
       " 'name',\n",
       " 'red',\n",
       " 'integrity',\n",
       " 'unquenchable',\n",
       " 'sense',\n",
       " 'hope.drama',\n",
       " 'crime']"
      ]
     },
     "execution_count": 54,
     "metadata": {},
     "output_type": "execute_result"
    }
   ],
   "source": [
    "wnet=WordNetLemmatizer()\n",
    "\n",
    "for i in range(len(wordList)):\n",
    "    for j in range(len(wordList[i])):\n",
    "        wordList[i][j]=wnet.lemmatize(wordList[i][j],pos='v')\n",
    "        \n",
    "wordList[0]"
   ]
  },
  {
   "cell_type": "code",
   "execution_count": 55,
   "id": "d81e5ed4",
   "metadata": {},
   "outputs": [],
   "source": [
    "for i in range(len(tokens)):\n",
    "    tokens[i]=' '.join(wordList[i])"
   ]
  },
  {
   "cell_type": "code",
   "execution_count": 56,
   "id": "36648776",
   "metadata": {},
   "outputs": [
    {
     "data": {
      "text/plain": [
       "'frame 1940s double murder wife lover upstanding banker andy dufresne begin new life shawshank prison put account skills work amoral warden long stretch prison dufresne come admire inmates include older prisoner name red integrity unquenchable sense hope.drama crime'"
      ]
     },
     "execution_count": 56,
     "metadata": {},
     "output_type": "execute_result"
    }
   ],
   "source": [
    "tokens[0]"
   ]
  },
  {
   "cell_type": "code",
   "execution_count": 57,
   "id": "fe37fede",
   "metadata": {},
   "outputs": [],
   "source": [
    "cv = CountVectorizer(max_features=10005)"
   ]
  },
  {
   "cell_type": "code",
   "execution_count": 58,
   "id": "1488330b",
   "metadata": {},
   "outputs": [
    {
     "data": {
      "text/html": [
       "<style>#sk-container-id-1 {color: black;}#sk-container-id-1 pre{padding: 0;}#sk-container-id-1 div.sk-toggleable {background-color: white;}#sk-container-id-1 label.sk-toggleable__label {cursor: pointer;display: block;width: 100%;margin-bottom: 0;padding: 0.3em;box-sizing: border-box;text-align: center;}#sk-container-id-1 label.sk-toggleable__label-arrow:before {content: \"▸\";float: left;margin-right: 0.25em;color: #696969;}#sk-container-id-1 label.sk-toggleable__label-arrow:hover:before {color: black;}#sk-container-id-1 div.sk-estimator:hover label.sk-toggleable__label-arrow:before {color: black;}#sk-container-id-1 div.sk-toggleable__content {max-height: 0;max-width: 0;overflow: hidden;text-align: left;background-color: #f0f8ff;}#sk-container-id-1 div.sk-toggleable__content pre {margin: 0.2em;color: black;border-radius: 0.25em;background-color: #f0f8ff;}#sk-container-id-1 input.sk-toggleable__control:checked~div.sk-toggleable__content {max-height: 200px;max-width: 100%;overflow: auto;}#sk-container-id-1 input.sk-toggleable__control:checked~label.sk-toggleable__label-arrow:before {content: \"▾\";}#sk-container-id-1 div.sk-estimator input.sk-toggleable__control:checked~label.sk-toggleable__label {background-color: #d4ebff;}#sk-container-id-1 div.sk-label input.sk-toggleable__control:checked~label.sk-toggleable__label {background-color: #d4ebff;}#sk-container-id-1 input.sk-hidden--visually {border: 0;clip: rect(1px 1px 1px 1px);clip: rect(1px, 1px, 1px, 1px);height: 1px;margin: -1px;overflow: hidden;padding: 0;position: absolute;width: 1px;}#sk-container-id-1 div.sk-estimator {font-family: monospace;background-color: #f0f8ff;border: 1px dotted black;border-radius: 0.25em;box-sizing: border-box;margin-bottom: 0.5em;}#sk-container-id-1 div.sk-estimator:hover {background-color: #d4ebff;}#sk-container-id-1 div.sk-parallel-item::after {content: \"\";width: 100%;border-bottom: 1px solid gray;flex-grow: 1;}#sk-container-id-1 div.sk-label:hover label.sk-toggleable__label {background-color: #d4ebff;}#sk-container-id-1 div.sk-serial::before {content: \"\";position: absolute;border-left: 1px solid gray;box-sizing: border-box;top: 0;bottom: 0;left: 50%;z-index: 0;}#sk-container-id-1 div.sk-serial {display: flex;flex-direction: column;align-items: center;background-color: white;padding-right: 0.2em;padding-left: 0.2em;position: relative;}#sk-container-id-1 div.sk-item {position: relative;z-index: 1;}#sk-container-id-1 div.sk-parallel {display: flex;align-items: stretch;justify-content: center;background-color: white;position: relative;}#sk-container-id-1 div.sk-item::before, #sk-container-id-1 div.sk-parallel-item::before {content: \"\";position: absolute;border-left: 1px solid gray;box-sizing: border-box;top: 0;bottom: 0;left: 50%;z-index: -1;}#sk-container-id-1 div.sk-parallel-item {display: flex;flex-direction: column;z-index: 1;position: relative;background-color: white;}#sk-container-id-1 div.sk-parallel-item:first-child::after {align-self: flex-end;width: 50%;}#sk-container-id-1 div.sk-parallel-item:last-child::after {align-self: flex-start;width: 50%;}#sk-container-id-1 div.sk-parallel-item:only-child::after {width: 0;}#sk-container-id-1 div.sk-dashed-wrapped {border: 1px dashed gray;margin: 0 0.4em 0.5em 0.4em;box-sizing: border-box;padding-bottom: 0.4em;background-color: white;}#sk-container-id-1 div.sk-label label {font-family: monospace;font-weight: bold;display: inline-block;line-height: 1.2em;}#sk-container-id-1 div.sk-label-container {text-align: center;}#sk-container-id-1 div.sk-container {/* jupyter's `normalize.less` sets `[hidden] { display: none; }` but bootstrap.min.css set `[hidden] { display: none !important; }` so we also need the `!important` here to be able to override the default hidden behavior on the sphinx rendered scikit-learn.org. See: https://github.com/scikit-learn/scikit-learn/issues/21755 */display: inline-block !important;position: relative;}#sk-container-id-1 div.sk-text-repr-fallback {display: none;}</style><div id=\"sk-container-id-1\" class=\"sk-top-container\"><div class=\"sk-text-repr-fallback\"><pre>CountVectorizer(max_features=10005)</pre><b>In a Jupyter environment, please rerun this cell to show the HTML representation or trust the notebook. <br />On GitHub, the HTML representation is unable to render, please try loading this page with nbviewer.org.</b></div><div class=\"sk-container\" hidden><div class=\"sk-item\"><div class=\"sk-estimator sk-toggleable\"><input class=\"sk-toggleable__control sk-hidden--visually\" id=\"sk-estimator-id-1\" type=\"checkbox\" checked><label for=\"sk-estimator-id-1\" class=\"sk-toggleable__label sk-toggleable__label-arrow\">CountVectorizer</label><div class=\"sk-toggleable__content\"><pre>CountVectorizer(max_features=10005)</pre></div></div></div></div></div>"
      ],
      "text/plain": [
       "CountVectorizer(max_features=10005)"
      ]
     },
     "execution_count": 58,
     "metadata": {},
     "output_type": "execute_result"
    }
   ],
   "source": [
    "cv"
   ]
  },
  {
   "cell_type": "code",
   "execution_count": 59,
   "id": "b3f7ba8e",
   "metadata": {},
   "outputs": [],
   "source": [
    "vector=cv.fit_transform(tokens).toarray()"
   ]
  },
  {
   "cell_type": "code",
   "execution_count": 60,
   "id": "40856d48",
   "metadata": {},
   "outputs": [
    {
     "data": {
      "text/plain": [
       "array([[0, 0, 0, ..., 0, 0, 0],\n",
       "       [0, 0, 0, ..., 0, 0, 0],\n",
       "       [0, 0, 0, ..., 0, 0, 0],\n",
       "       ...,\n",
       "       [0, 0, 0, ..., 0, 0, 0],\n",
       "       [0, 0, 0, ..., 0, 0, 0],\n",
       "       [0, 0, 0, ..., 0, 0, 0]], dtype=int64)"
      ]
     },
     "execution_count": 60,
     "metadata": {},
     "output_type": "execute_result"
    }
   ],
   "source": [
    "vector"
   ]
  },
  {
   "cell_type": "code",
   "execution_count": 61,
   "id": "5666b0b8",
   "metadata": {},
   "outputs": [
    {
     "data": {
      "text/plain": [
       "(10005, 10005)"
      ]
     },
     "execution_count": 61,
     "metadata": {},
     "output_type": "execute_result"
    }
   ],
   "source": [
    "vector.shape"
   ]
  },
  {
   "cell_type": "code",
   "execution_count": 62,
   "id": "426bfc0b",
   "metadata": {},
   "outputs": [],
   "source": [
    "from sklearn.metrics.pairwise import cosine_similarity"
   ]
  },
  {
   "cell_type": "code",
   "execution_count": 63,
   "id": "6afbd487",
   "metadata": {},
   "outputs": [],
   "source": [
    "similarity=cosine_similarity(vector)"
   ]
  },
  {
   "cell_type": "code",
   "execution_count": 64,
   "id": "20ef2fd8",
   "metadata": {},
   "outputs": [
    {
     "data": {
      "text/plain": [
       "array([[1.        , 0.05143445, 0.1228683 , ..., 0.06666667, 0.10660036,\n",
       "        0.06299408],\n",
       "       [0.05143445, 1.        , 0.06825236, ..., 0.        , 0.03289758,\n",
       "        0.        ],\n",
       "       [0.1228683 , 0.06825236, 1.        , ..., 0.02948839, 0.06286946,\n",
       "        0.08359173],\n",
       "       ...,\n",
       "       [0.06666667, 0.        , 0.02948839, ..., 1.        , 0.08528029,\n",
       "        0.03779645],\n",
       "       [0.10660036, 0.03289758, 0.06286946, ..., 0.08528029, 1.        ,\n",
       "        0.04029115],\n",
       "       [0.06299408, 0.        , 0.08359173, ..., 0.03779645, 0.04029115,\n",
       "        1.        ]])"
      ]
     },
     "execution_count": 64,
     "metadata": {},
     "output_type": "execute_result"
    }
   ],
   "source": [
    "similarity"
   ]
  },
  {
   "cell_type": "code",
   "execution_count": 65,
   "id": "7e9ae4fd",
   "metadata": {},
   "outputs": [
    {
     "data": {
      "text/plain": [
       "2"
      ]
     },
     "execution_count": 65,
     "metadata": {},
     "output_type": "execute_result"
    }
   ],
   "source": [
    "df_[df_['title']==\"The Godfather\"].index[0]"
   ]
  },
  {
   "cell_type": "code",
   "execution_count": 66,
   "id": "dd1b780a",
   "metadata": {},
   "outputs": [],
   "source": [
    "def recommand(movies):\n",
    "    index=df_[df_['title']==movies].index[0]\n",
    "    distance = sorted(list(enumerate(similarity[index])), reverse=True, key=lambda vector:vector[1])\n",
    "    for i in distance[0:11]:\n",
    "        print(df_.iloc[i[0]].title)"
   ]
  },
  {
   "cell_type": "code",
   "execution_count": 67,
   "id": "1b068bd0",
   "metadata": {},
   "outputs": [],
   "source": [
    "import pickle\n"
   ]
  },
  {
   "cell_type": "code",
   "execution_count": 71,
   "id": "986023e9",
   "metadata": {},
   "outputs": [],
   "source": [
    "pickle.dump(df_.to_dict(), open('movies_dict.pkl', 'wb'))\n"
   ]
  },
  {
   "cell_type": "code",
   "execution_count": 69,
   "id": "98ee13d8",
   "metadata": {},
   "outputs": [],
   "source": [
    "pickle.dump(similarity, open('similarity.pkl', 'wb'))\n"
   ]
  },
  {
   "cell_type": "code",
   "execution_count": 70,
   "id": "6ab7b73f",
   "metadata": {},
   "outputs": [
    {
     "data": {
      "text/html": [
       "<div>\n",
       "<style scoped>\n",
       "    .dataframe tbody tr th:only-of-type {\n",
       "        vertical-align: middle;\n",
       "    }\n",
       "\n",
       "    .dataframe tbody tr th {\n",
       "        vertical-align: top;\n",
       "    }\n",
       "\n",
       "    .dataframe thead th {\n",
       "        text-align: right;\n",
       "    }\n",
       "</style>\n",
       "<table border=\"1\" class=\"dataframe\">\n",
       "  <thead>\n",
       "    <tr style=\"text-align: right;\">\n",
       "      <th></th>\n",
       "      <th>id</th>\n",
       "      <th>title</th>\n",
       "      <th>tags</th>\n",
       "    </tr>\n",
       "  </thead>\n",
       "  <tbody>\n",
       "    <tr>\n",
       "      <th>0</th>\n",
       "      <td>278</td>\n",
       "      <td>The Shawshank Redemption</td>\n",
       "      <td>Framed in the 1940s for the double murder of h...</td>\n",
       "    </tr>\n",
       "    <tr>\n",
       "      <th>1</th>\n",
       "      <td>19404</td>\n",
       "      <td>Dilwale Dulhania Le Jayenge</td>\n",
       "      <td>Raj is a rich, carefree, happy-go-lucky second...</td>\n",
       "    </tr>\n",
       "    <tr>\n",
       "      <th>2</th>\n",
       "      <td>238</td>\n",
       "      <td>The Godfather</td>\n",
       "      <td>Spanning the years 1945 to 1955, a chronicle o...</td>\n",
       "    </tr>\n",
       "    <tr>\n",
       "      <th>3</th>\n",
       "      <td>424</td>\n",
       "      <td>Schindler's List</td>\n",
       "      <td>The true story of how businessman Oskar Schind...</td>\n",
       "    </tr>\n",
       "    <tr>\n",
       "      <th>4</th>\n",
       "      <td>240</td>\n",
       "      <td>The Godfather: Part II</td>\n",
       "      <td>In the continuing saga of the Corleone crime f...</td>\n",
       "    </tr>\n",
       "    <tr>\n",
       "      <th>...</th>\n",
       "      <td>...</td>\n",
       "      <td>...</td>\n",
       "      <td>...</td>\n",
       "    </tr>\n",
       "    <tr>\n",
       "      <th>10000</th>\n",
       "      <td>10196</td>\n",
       "      <td>The Last Airbender</td>\n",
       "      <td>The story follows the adventures of Aang, a yo...</td>\n",
       "    </tr>\n",
       "    <tr>\n",
       "      <th>10001</th>\n",
       "      <td>331446</td>\n",
       "      <td>Sharknado 3: Oh Hell No!</td>\n",
       "      <td>The sharks take bite out of the East Coast whe...</td>\n",
       "    </tr>\n",
       "    <tr>\n",
       "      <th>10002</th>\n",
       "      <td>13995</td>\n",
       "      <td>Captain America</td>\n",
       "      <td>\"During World War II, a brave, patriotic Ameri...</td>\n",
       "    </tr>\n",
       "    <tr>\n",
       "      <th>10003</th>\n",
       "      <td>2312</td>\n",
       "      <td>In the Name of the King: A Dungeon Siege Tale</td>\n",
       "      <td>A man named Farmer sets out to rescue his kidn...</td>\n",
       "    </tr>\n",
       "    <tr>\n",
       "      <th>10004</th>\n",
       "      <td>455957</td>\n",
       "      <td>Domino</td>\n",
       "      <td>Seeking justice for his partner’s murder by an...</td>\n",
       "    </tr>\n",
       "  </tbody>\n",
       "</table>\n",
       "<p>10005 rows × 3 columns</p>\n",
       "</div>"
      ],
      "text/plain": [
       "           id                                          title  \\\n",
       "0         278                       The Shawshank Redemption   \n",
       "1       19404                    Dilwale Dulhania Le Jayenge   \n",
       "2         238                                  The Godfather   \n",
       "3         424                               Schindler's List   \n",
       "4         240                         The Godfather: Part II   \n",
       "...       ...                                            ...   \n",
       "10000   10196                             The Last Airbender   \n",
       "10001  331446                       Sharknado 3: Oh Hell No!   \n",
       "10002   13995                                Captain America   \n",
       "10003    2312  In the Name of the King: A Dungeon Siege Tale   \n",
       "10004  455957                                         Domino   \n",
       "\n",
       "                                                    tags  \n",
       "0      Framed in the 1940s for the double murder of h...  \n",
       "1      Raj is a rich, carefree, happy-go-lucky second...  \n",
       "2      Spanning the years 1945 to 1955, a chronicle o...  \n",
       "3      The true story of how businessman Oskar Schind...  \n",
       "4      In the continuing saga of the Corleone crime f...  \n",
       "...                                                  ...  \n",
       "10000  The story follows the adventures of Aang, a yo...  \n",
       "10001  The sharks take bite out of the East Coast whe...  \n",
       "10002  \"During World War II, a brave, patriotic Ameri...  \n",
       "10003  A man named Farmer sets out to rescue his kidn...  \n",
       "10004  Seeking justice for his partner’s murder by an...  \n",
       "\n",
       "[10005 rows x 3 columns]"
      ]
     },
     "execution_count": 70,
     "metadata": {},
     "output_type": "execute_result"
    }
   ],
   "source": [
    "pickle.load(open('movies_list.pkl', 'rb'))"
   ]
  },
  {
   "cell_type": "code",
   "execution_count": null,
   "id": "42640d8a",
   "metadata": {},
   "outputs": [],
   "source": []
  },
  {
   "cell_type": "code",
   "execution_count": null,
   "id": "d5741f0e",
   "metadata": {},
   "outputs": [],
   "source": []
  }
 ],
 "metadata": {
  "kernelspec": {
   "display_name": "Python 3 (ipykernel)",
   "language": "python",
   "name": "python3"
  },
  "language_info": {
   "codemirror_mode": {
    "name": "ipython",
    "version": 3
   },
   "file_extension": ".py",
   "mimetype": "text/x-python",
   "name": "python",
   "nbconvert_exporter": "python",
   "pygments_lexer": "ipython3",
   "version": "3.11.4"
  }
 },
 "nbformat": 4,
 "nbformat_minor": 5
}
